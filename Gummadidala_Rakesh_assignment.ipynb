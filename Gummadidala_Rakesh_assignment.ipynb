{
  "nbformat": 4,
  "nbformat_minor": 0,
  "metadata": {
    "colab": {
      "name": "Gummadidala Rakesh assignment",
      "provenance": [],
      "authorship_tag": "ABX9TyPSeeqRF226gS2Sv2OnQoxG",
      "include_colab_link": true
    },
    "kernelspec": {
      "name": "python3",
      "display_name": "Python 3"
    }
  },
  "cells": [
    {
      "cell_type": "markdown",
      "metadata": {
        "id": "view-in-github",
        "colab_type": "text"
      },
      "source": [
        "<a href=\"https://colab.research.google.com/github/RAKESH419/Letsupgrade-python-b7/blob/master/Gummadidala_Rakesh_assignment.ipynb\" target=\"_parent\"><img src=\"https://colab.research.google.com/assets/colab-badge.svg\" alt=\"Open In Colab\"/></a>"
      ]
    },
    {
      "cell_type": "markdown",
      "metadata": {
        "id": "vBGvowkA7rgO",
        "colab_type": "text"
      },
      "source": [
        "assignment Day 9"
      ]
    },
    {
      "cell_type": "markdown",
      "metadata": {
        "id": "IVsrG6Ll7pFh",
        "colab_type": "text"
      },
      "source": [
        " 1. Write a python Function for finding is a given number prime or not and do Unit Testing on it using\n",
        "PyLint and Unittest Library."
      ]
    },
    {
      "cell_type": "code",
      "metadata": {
        "id": "oO0OyPom762V",
        "colab_type": "code",
        "colab": {
          "base_uri": "https://localhost:8080/",
          "height": 34
        },
        "outputId": "d753938b-f965-472e-eb04-cce251ae1437"
      },
      "source": [
        "def test_prime(n):\n",
        "    if (n==1):\n",
        "        return False\n",
        "    elif (n==2):\n",
        "        return True;\n",
        "    else:\n",
        "        for x in range(2,n):\n",
        "            if(n % x==0):\n",
        "                return False\n",
        "        return True             \n",
        "print(test_prime(9))"
      ],
      "execution_count": 6,
      "outputs": [
        {
          "output_type": "stream",
          "text": [
            "False\n"
          ],
          "name": "stdout"
        }
      ]
    },
    {
      "cell_type": "markdown",
      "metadata": {
        "id": "gygDae378PyW",
        "colab_type": "text"
      },
      "source": [
        "2. Make a small generator program for returning armstrong numbers in between 1-1000 in a\n",
        "generator object."
      ]
    },
    {
      "cell_type": "code",
      "metadata": {
        "id": "tqYcK3yp8NGg",
        "colab_type": "code",
        "colab": {
          "base_uri": "https://localhost:8080/",
          "height": 272
        },
        "outputId": "d927f17a-7a62-4ac1-ffa1-1fcff2eed68d"
      },
      "source": [
        "lower = int(input(\"Enter lower range: \"))\n",
        "upper = int(input(\"Enter upper range: \"))\n",
        " \n",
        "for num in range(lower, upper + 1):\n",
        " \n",
        "   order = len(str(num))\n",
        " \n",
        "   sum = 0\n",
        " \n",
        "   temp = num\n",
        "   while temp > 0:\n",
        "       digit = temp % 10\n",
        "       sum += digit ** order\n",
        "       temp //= 10\n",
        " \n",
        "   if num == sum:\n",
        "       print(num)"
      ],
      "execution_count": 7,
      "outputs": [
        {
          "output_type": "stream",
          "text": [
            "Enter lower range: 1\n",
            "Enter upper range: 1000\n",
            "1\n",
            "2\n",
            "3\n",
            "4\n",
            "5\n",
            "6\n",
            "7\n",
            "8\n",
            "9\n",
            "153\n",
            "370\n",
            "371\n",
            "407\n"
          ],
          "name": "stdout"
        }
      ]
    }
  ]
}