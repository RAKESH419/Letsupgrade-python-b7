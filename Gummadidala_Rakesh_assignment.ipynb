{
  "nbformat": 4,
  "nbformat_minor": 0,
  "metadata": {
    "colab": {
      "name": "Gummadidala Rakesh assignment",
      "provenance": []
    },
    "kernelspec": {
      "name": "python3",
      "display_name": "Python 3"
    }
  },
  "cells": [
    {
      "cell_type": "markdown",
      "metadata": {
        "id": "5mceQimc2cxM",
        "colab_type": "text"
      },
      "source": [
        "1. LIST and it defalt functions"
      ]
    },
    {
      "cell_type": "markdown",
      "metadata": {
        "id": "SzDy4Pdw3G_c",
        "colab_type": "text"
      },
      "source": [
        "*append(): Used for appending and adding elements to List.It is used to add elements to the last position of List."
      ]
    },
    {
      "cell_type": "markdown",
      "metadata": {
        "id": "MTmhkguq3gUM",
        "colab_type": "text"
      },
      "source": [
        "Syntax: \n",
        " list.append (element)"
      ]
    },
    {
      "cell_type": "code",
      "metadata": {
        "id": "kLZmDO-V3i6s",
        "colab_type": "code",
        "colab": {
          "base_uri": "https://localhost:8080/",
          "height": 34
        },
        "outputId": "7f973065-8834-45f0-a2dd-229249230619"
      },
      "source": [
        "# Adds List Element as value of List. \n",
        "List = ['rakesh', 'sai', 1997, 2000] \n",
        "List.append(20544) \n",
        "print(List) \n"
      ],
      "execution_count": null,
      "outputs": [
        {
          "output_type": "stream",
          "text": [
            "['rakesh', 'sai', 1997, 2000, 20544]\n"
          ],
          "name": "stdout"
        }
      ]
    },
    {
      "cell_type": "markdown",
      "metadata": {
        "id": "pBF8Seew4E93",
        "colab_type": "text"
      },
      "source": [
        "*insert(): Inserts an elements at specified position."
      ]
    },
    {
      "cell_type": "markdown",
      "metadata": {
        "id": "FRfrU1NE4QPi",
        "colab_type": "text"
      },
      "source": [
        "syntax: list.insert(<position, element)"
      ]
    },
    {
      "cell_type": "code",
      "metadata": {
        "id": "o5BVkPul4ZOm",
        "colab_type": "code",
        "colab": {
          "base_uri": "https://localhost:8080/",
          "height": 34
        },
        "outputId": "11d08c91-c25c-4636-985b-df4c3b9940a9"
      },
      "source": [
        "List = ['rakesh', 'sai', 1997, 2000] \n",
        "# Insert at index 2 value 10087 \n",
        "List.insert(2,10087)\t \n",
        "print(List)\t\t \n"
      ],
      "execution_count": null,
      "outputs": [
        {
          "output_type": "stream",
          "text": [
            "['rakesh', 'sai', 10087, 1997, 2000]\n"
          ],
          "name": "stdout"
        }
      ]
    },
    {
      "cell_type": "markdown",
      "metadata": {
        "id": "1eR0nT2n4uEJ",
        "colab_type": "text"
      },
      "source": [
        "*extend(): Adds contents to List2 to the end of List1"
      ]
    },
    {
      "cell_type": "markdown",
      "metadata": {
        "id": "PzpYSKBs42ct",
        "colab_type": "text"
      },
      "source": [
        "Syntax:\n",
        "List1.extend(List2)"
      ]
    },
    {
      "cell_type": "code",
      "metadata": {
        "id": "sPHWU1ZR4-2V",
        "colab_type": "code",
        "colab": {
          "base_uri": "https://localhost:8080/",
          "height": 51
        },
        "outputId": "60068da4-3dd5-4677-8cf0-1636c8e70437"
      },
      "source": [
        "List1 = [1, 2, 3] \n",
        "List2 = [2, 3, 4, 5] \n",
        "\n",
        "# Add List2 to List1 \n",
        "List1.extend(List2)\t\t \n",
        "print(List1) \n",
        "\n",
        "# Add List1 to List2 now \n",
        "List2.extend(List1) \n",
        "print(List2) \n"
      ],
      "execution_count": null,
      "outputs": [
        {
          "output_type": "stream",
          "text": [
            "[1, 2, 3, 2, 3, 4, 5]\n",
            "[2, 3, 4, 5, 1, 2, 3, 2, 3, 4, 5]\n"
          ],
          "name": "stdout"
        }
      ]
    },
    {
      "cell_type": "markdown",
      "metadata": {
        "id": "gooFjFNc5bGa",
        "colab_type": "text"
      },
      "source": [
        "*sum() : Calculates sum of all the elements of List"
      ]
    },
    {
      "cell_type": "markdown",
      "metadata": {
        "id": "rvXxsZc-5lpv",
        "colab_type": "text"
      },
      "source": [
        "Syntax:\n",
        " sum(List)"
      ]
    },
    {
      "cell_type": "code",
      "metadata": {
        "id": "uMSe1erR5rtd",
        "colab_type": "code",
        "colab": {
          "base_uri": "https://localhost:8080/",
          "height": 34
        },
        "outputId": "fe718bf5-a877-4309-9e59-676d13623de7"
      },
      "source": [
        "List = [1, 4, 5, 4, 5] \n",
        "print(sum(List)) \n"
      ],
      "execution_count": null,
      "outputs": [
        {
          "output_type": "stream",
          "text": [
            "19\n"
          ],
          "name": "stdout"
        }
      ]
    },
    {
      "cell_type": "markdown",
      "metadata": {
        "id": "UDFtme1j51Xh",
        "colab_type": "text"
      },
      "source": [
        "*count():Calculates total occurrence of given element of List"
      ]
    },
    {
      "cell_type": "markdown",
      "metadata": {
        "id": "ae4EAmAW6ASF",
        "colab_type": "text"
      },
      "source": [
        "Syntax:\n",
        "List.count(element)"
      ]
    },
    {
      "cell_type": "code",
      "metadata": {
        "id": "_D4tbqWY6Ee_",
        "colab_type": "code",
        "colab": {
          "base_uri": "https://localhost:8080/",
          "height": 34
        },
        "outputId": "8096ccbb-3e0c-4fbb-fe57-e9b9edf9f25e"
      },
      "source": [
        "List = [0, 2, 4, 1, 2, 1, 2, 3, 2, 1] \n",
        "print(List.count(1)) \n"
      ],
      "execution_count": null,
      "outputs": [
        {
          "output_type": "stream",
          "text": [
            "3\n"
          ],
          "name": "stdout"
        }
      ]
    },
    {
      "cell_type": "markdown",
      "metadata": {
        "id": "VK6i7yjH6J8u",
        "colab_type": "text"
      },
      "source": [
        "*length:Calculates total length of List."
      ]
    },
    {
      "cell_type": "markdown",
      "metadata": {
        "id": "OZQfKifN6TWO",
        "colab_type": "text"
      },
      "source": [
        "Syntax:\n",
        "len(list_name)"
      ]
    },
    {
      "cell_type": "code",
      "metadata": {
        "id": "2wIS5FAZ6WOl",
        "colab_type": "code",
        "colab": {
          "base_uri": "https://localhost:8080/",
          "height": 34
        },
        "outputId": "302ee02f-fab3-483d-c655-e7d27bf7d6a7"
      },
      "source": [
        "List = [1, 6, 3, 1, 2, 1, 2, 3, 2] \n",
        "print(len(List)) \n"
      ],
      "execution_count": null,
      "outputs": [
        {
          "output_type": "stream",
          "text": [
            "9\n"
          ],
          "name": "stdout"
        }
      ]
    },
    {
      "cell_type": "markdown",
      "metadata": {
        "id": "a8nWUTZg6iD0",
        "colab_type": "text"
      },
      "source": [
        "*index(): Returns the index of first occurrence. Start and End index are not necessary parameters."
      ]
    },
    {
      "cell_type": "markdown",
      "metadata": {
        "id": "BwkdgiVN6wSI",
        "colab_type": "text"
      },
      "source": [
        "Syntax:\n",
        "List.index(element[,start[,end]])\n",
        "filter_none"
      ]
    },
    {
      "cell_type": "code",
      "metadata": {
        "id": "SJEn95cv60xJ",
        "colab_type": "code",
        "colab": {
          "base_uri": "https://localhost:8080/",
          "height": 34
        },
        "outputId": "328800ae-19ba-4032-fe31-fbe7928dad81"
      },
      "source": [
        "List = [1, 2, 3, 1, 2, 1, 2, 3, 2, 1] \n",
        "print(List.index(2)) \n"
      ],
      "execution_count": null,
      "outputs": [
        {
          "output_type": "stream",
          "text": [
            "1\n"
          ],
          "name": "stdout"
        }
      ]
    },
    {
      "cell_type": "markdown",
      "metadata": {
        "id": "6QNc4mtD65n6",
        "colab_type": "text"
      },
      "source": [
        "*min() : Calculates minimum of all the elements of List."
      ]
    },
    {
      "cell_type": "markdown",
      "metadata": {
        "id": "xCagXym09nWi",
        "colab_type": "text"
      },
      "source": [
        "Syntax:\n",
        "min(List)"
      ]
    },
    {
      "cell_type": "code",
      "metadata": {
        "id": "L25jg66c9p9P",
        "colab_type": "code",
        "colab": {
          "base_uri": "https://localhost:8080/",
          "height": 34
        },
        "outputId": "2b7511d8-de44-4d58-836f-0df804cbe333"
      },
      "source": [
        "List = [2.3, 4.445, 3, 5.33, 1.054, 2.5] \n",
        "print(min(List)) \n"
      ],
      "execution_count": null,
      "outputs": [
        {
          "output_type": "stream",
          "text": [
            "1.054\n"
          ],
          "name": "stdout"
        }
      ]
    },
    {
      "cell_type": "markdown",
      "metadata": {
        "id": "gzVFvPOn9tiL",
        "colab_type": "text"
      },
      "source": [
        "*max(): Calculates maximum of all the elements of List."
      ]
    },
    {
      "cell_type": "markdown",
      "metadata": {
        "id": "9O5NyQAN92cg",
        "colab_type": "text"
      },
      "source": [
        "Syntax:\n",
        "max(List)"
      ]
    },
    {
      "cell_type": "code",
      "metadata": {
        "id": "mJB_65zv95Zn",
        "colab_type": "code",
        "colab": {
          "base_uri": "https://localhost:8080/",
          "height": 34
        },
        "outputId": "35be296e-1859-48cc-b6cf-c67ab724c969"
      },
      "source": [
        "List = [2.3, 4.445, 3, 5.33, 1.054, 2.5] \n",
        "print(max(List)) \n"
      ],
      "execution_count": null,
      "outputs": [
        {
          "output_type": "stream",
          "text": [
            "5.33\n"
          ],
          "name": "stdout"
        }
      ]
    },
    {
      "cell_type": "markdown",
      "metadata": {
        "id": "SmzMSFEj-Au6",
        "colab_type": "text"
      },
      "source": [
        "*reverse(): Sort the given data structure (both tuple and list) in ascending order. Key and reverse_flag are not necessary parameter and reverse_flag is set to False, if nothing is passed through sorted()"
      ]
    },
    {
      "cell_type": "markdown",
      "metadata": {
        "id": "hRQTCwqP-BJe",
        "colab_type": "text"
      },
      "source": [
        "Syntax:\n",
        "sorted([list[,key[,Reverse_Flag]]])\n",
        " list.sort([key,[Reverse_flag]])"
      ]
    },
    {
      "cell_type": "code",
      "metadata": {
        "id": "B-u7Ibt_-XkV",
        "colab_type": "code",
        "colab": {
          "base_uri": "https://localhost:8080/",
          "height": 34
        },
        "outputId": "d8ddc589-93f7-4d4d-ffc2-7518a8a12c2d"
      },
      "source": [
        "List = [2.3, 4.445, 3, 5.33, 1.054, 2.5] \n",
        "\n",
        "#Reverse flag is set True \n",
        "List.sort(reverse=True) \n",
        "\n",
        "#List.sort().reverse(), reverses the sorted list \n",
        "print(List)\t\t \n"
      ],
      "execution_count": null,
      "outputs": [
        {
          "output_type": "stream",
          "text": [
            "[5.33, 4.445, 3, 2.5, 2.3, 1.054]\n"
          ],
          "name": "stdout"
        }
      ]
    },
    {
      "cell_type": "markdown",
      "metadata": {
        "id": "ExhxbNg5-bkx",
        "colab_type": "text"
      },
      "source": [
        "*pop(): Index is not a necessary parameter, if not mentioned takes the last index."
      ]
    },
    {
      "cell_type": "markdown",
      "metadata": {
        "id": "hbrZ8JBr-mVg",
        "colab_type": "text"
      },
      "source": [
        "Syntax:\n",
        " list.pop([index])"
      ]
    },
    {
      "cell_type": "code",
      "metadata": {
        "id": "hOsZU0Yc-q8-",
        "colab_type": "code",
        "colab": {
          "base_uri": "https://localhost:8080/",
          "height": 34
        },
        "outputId": "46bf06a4-a450-475d-b832-860d39de15ed"
      },
      "source": [
        "List = [2.3, 4.445, 3, 5.33, 1.054, 2.5] \n",
        "print(List.pop()) \n"
      ],
      "execution_count": null,
      "outputs": [
        {
          "output_type": "stream",
          "text": [
            "2.5\n"
          ],
          "name": "stdout"
        }
      ]
    },
    {
      "cell_type": "markdown",
      "metadata": {
        "id": "iI37wRtl-tcm",
        "colab_type": "text"
      },
      "source": [
        "del() : Element to be deleted is mentioned using list name and index"
      ]
    },
    {
      "cell_type": "markdown",
      "metadata": {
        "id": "kY_ZffzS-1qC",
        "colab_type": "text"
      },
      "source": [
        "Syntax:\n",
        "del list.[index]"
      ]
    },
    {
      "cell_type": "code",
      "metadata": {
        "id": "BOnvbBeX-5qa",
        "colab_type": "code",
        "colab": {
          "base_uri": "https://localhost:8080/",
          "height": 34
        },
        "outputId": "55344959-b589-478a-f4ff-abc9e2dc2d01"
      },
      "source": [
        "List = [2.3, 4.445, 3, 5.33, 1.054, 2.5] \n",
        "del List[0] \n",
        "print(List) \n"
      ],
      "execution_count": null,
      "outputs": [
        {
          "output_type": "stream",
          "text": [
            "[4.445, 3, 5.33, 1.054, 2.5]\n"
          ],
          "name": "stdout"
        }
      ]
    },
    {
      "cell_type": "markdown",
      "metadata": {
        "id": "oejk56k1-8cP",
        "colab_type": "text"
      },
      "source": [
        "*remove(): Element to be deleted is mentioned using list name and element"
      ]
    },
    {
      "cell_type": "markdown",
      "metadata": {
        "id": "70y4uV27_Dvo",
        "colab_type": "text"
      },
      "source": [
        "Syntax:\n",
        " list.remove(element)Syntax:\n",
        " list.remove(element)"
      ]
    },
    {
      "cell_type": "code",
      "metadata": {
        "id": "Lv1Ha1iq_HHl",
        "colab_type": "code",
        "colab": {
          "base_uri": "https://localhost:8080/",
          "height": 34
        },
        "outputId": "88d9a865-76dd-4605-8007-9b1c15401d9f"
      },
      "source": [
        "List = [2.3, 4.445, 3, 5.33, 1.054, 2.5] \n",
        "List.remove(3) \n",
        "print(List) \n"
      ],
      "execution_count": null,
      "outputs": [
        {
          "output_type": "stream",
          "text": [
            "[2.3, 4.445, 5.33, 1.054, 2.5]\n"
          ],
          "name": "stdout"
        }
      ]
    },
    {
      "cell_type": "markdown",
      "metadata": {
        "id": "ykGynbfE_JyC",
        "colab_type": "text"
      },
      "source": [
        "2.DICTIONARY AND ITS DEFALT FUNCTIONS"
      ]
    },
    {
      "cell_type": "markdown",
      "metadata": {
        "id": "vd-Du61UCQhp",
        "colab_type": "text"
      },
      "source": [
        "Dictionary in Python is an unordered collection of data values, used to store data values like a map, which unlike other Data Types that hold only single value as an element, Dictionary holds key:value pair. Key value is provided in the dictionary to make it more optimized.\n",
        "\n"
      ]
    },
    {
      "cell_type": "markdown",
      "metadata": {
        "id": "w2hgz5DoCadj",
        "colab_type": "text"
      },
      "source": [
        "*Creating a Dictionary"
      ]
    },
    {
      "cell_type": "markdown",
      "metadata": {
        "id": "XLDix6KPD0Nl",
        "colab_type": "text"
      },
      "source": [
        "In Python, a Dictionary can be created by placing sequence of elements within curly {} braces, separated by ‘comma’. Dictionary holds a pair of values, one being the Key and the other corresponding pair element being its Key:value. Values in a dictionary can be of any datatype and can be duplicated, whereas keys can’t be repeated and must be immutable\n",
        "\n",
        "\n",
        ".\n",
        "Note – Dictionary keys are case sensitive, same name but different cases of Key will be treated distinctly.\n",
        " "
      ]
    },
    {
      "cell_type": "code",
      "metadata": {
        "id": "je5IO4hMECHE",
        "colab_type": "code",
        "colab": {
          "base_uri": "https://localhost:8080/",
          "height": 119
        },
        "outputId": "de03fd20-eb9f-404a-a490-1d800c1505fd"
      },
      "source": [
        "# Creating a Dictionary \n",
        "# with Integer Keys \n",
        "Dict = {1: 'rakesh', 2: 'For', 3: 'Rakesh'} \n",
        "print(\"\\nDictionary with the use of Integer Keys: \") \n",
        "print(Dict) \n",
        "\n",
        "# Creating a Dictionary \n",
        "# with Mixed keys \n",
        "Dict = {'Name': 'Ralesh', 1: [1, 2, 3, 4]} \n",
        "print(\"\\nDictionary with the use of Mixed Keys: \") \n",
        "print(Dict) \n"
      ],
      "execution_count": null,
      "outputs": [
        {
          "output_type": "stream",
          "text": [
            "\n",
            "Dictionary with the use of Integer Keys: \n",
            "{1: 'rakesh', 2: 'For', 3: 'Rakesh'}\n",
            "\n",
            "Dictionary with the use of Mixed Keys: \n",
            "{'Name': 'Ralesh', 1: [1, 2, 3, 4]}\n"
          ],
          "name": "stdout"
        }
      ]
    },
    {
      "cell_type": "markdown",
      "metadata": {
        "id": "xyRQFeQsEZGI",
        "colab_type": "text"
      },
      "source": [
        "Dictionary can also be created by the built-in function dict(). An empty dictionary can be created by just placing to curly braces{}."
      ]
    },
    {
      "cell_type": "code",
      "metadata": {
        "id": "VEQ20lrxE6j2",
        "colab_type": "code",
        "colab": {
          "base_uri": "https://localhost:8080/",
          "height": 153
        },
        "outputId": "79fedea7-13e2-4c37-a740-d07433f7bbef"
      },
      "source": [
        "# Creating an empty Dictionary \n",
        "Dict = {} \n",
        "print(\"Empty Dictionary: \") \n",
        "print(Dict) \n",
        "\n",
        "# Creating a Dictionary \n",
        "# with dict() method \n",
        "Dict = dict({1: 'sai', 2: 'For', 3:'raju'}) \n",
        "print(\"\\nDictionary with the use of dict(): \") \n",
        "print(Dict) \n",
        "\n",
        "# Creating a Dictionary \n",
        "# with each item as a Pair \n",
        "Dict = dict([(1, 'sai'), (2, 'For')]) \n",
        "print(\"\\nDictionary with each item as a pair: \") \n",
        "print(Dict) \n"
      ],
      "execution_count": null,
      "outputs": [
        {
          "output_type": "stream",
          "text": [
            "Empty Dictionary: \n",
            "{}\n",
            "\n",
            "Dictionary with the use of dict(): \n",
            "{1: 'sai', 2: 'For', 3: 'raju'}\n",
            "\n",
            "Dictionary with each item as a pair: \n",
            "{1: 'sai', 2: 'For'}\n"
          ],
          "name": "stdout"
        }
      ]
    },
    {
      "cell_type": "markdown",
      "metadata": {
        "id": "F1Dvv3o3FInG",
        "colab_type": "text"
      },
      "source": [
        "*Nested Dictionary:nested dictionary is a dictionary inside a dictionary. It's a collection of dictionaries into one single dictionary."
      ]
    },
    {
      "cell_type": "code",
      "metadata": {
        "id": "PiaApA-TFiHr",
        "colab_type": "code",
        "colab": {
          "base_uri": "https://localhost:8080/",
          "height": 34
        },
        "outputId": "d2129eb7-685e-4050-de1d-50914f1ef66c"
      },
      "source": [
        "# Creating a Nested Dictionary \n",
        "# as shown in the below image \n",
        "Dict = {1: 'sai', 2: 'For', \n",
        "\t\t3:{'A' : 'Welcome', 'B' : 'To', 'C' : 'sai'}} \n",
        "\n",
        "print(Dict) \n"
      ],
      "execution_count": null,
      "outputs": [
        {
          "output_type": "stream",
          "text": [
            "{1: 'sai', 2: 'For', 3: {'A': 'Welcome', 'B': 'To', 'C': 'sai'}}\n"
          ],
          "name": "stdout"
        }
      ]
    },
    {
      "cell_type": "markdown",
      "metadata": {
        "id": "2DOJwWoVFsrZ",
        "colab_type": "text"
      },
      "source": [
        "*Adding elements to a Dictionary\n"
      ]
    },
    {
      "cell_type": "markdown",
      "metadata": {
        "id": "Lf6WRhHbGB0n",
        "colab_type": "text"
      },
      "source": [
        "In Python Dictionary, Addition of elements can be done in multiple ways. One value at a time can be added to a Dictionary by defining value along with the key e.g. Dict[Key] = ‘Value’. Updating an existing value in a Dictionary can be done by using the built-in update() method. Nested key values can also be added to an existing Dictionary."
      ]
    },
    {
      "cell_type": "code",
      "metadata": {
        "id": "JEItnZ-vGHUX",
        "colab_type": "code",
        "colab": {
          "base_uri": "https://localhost:8080/",
          "height": 255
        },
        "outputId": "7b42e663-e893-43fb-ae82-5906d9f5bd58"
      },
      "source": [
        "# Creating an empty Dictionary \n",
        "Dict = {} \n",
        "print(\"Empty Dictionary: \") \n",
        "print(Dict) \n",
        "\n",
        "# Adding elements one at a time \n",
        "Dict[0] = 'rakesh'\n",
        "Dict[2] = 'raju'\n",
        "Dict[3] = 1\n",
        "print(\"\\nDictionary after adding 3 elements: \") \n",
        "print(Dict) \n",
        "\n",
        "# Adding set of values \n",
        "# to a single Key \n",
        "Dict['Value_set'] = 2, 3, 4\n",
        "print(\"\\nDictionary after adding 3 elements: \") \n",
        "print(Dict) \n",
        "\n",
        "# Updating existing Key's Value \n",
        "Dict[2] = 'Welcome'\n",
        "print(\"\\nUpdated key value: \") \n",
        "print(Dict) \n",
        "\n",
        "# Adding Nested Key value to Dictionary \n",
        "Dict[5] = {'Nested' :{'1' : 'Life', '2' : 'sai'}} \n",
        "print(\"\\nAdding a Nested Key: \") \n",
        "print(Dict) \n"
      ],
      "execution_count": null,
      "outputs": [
        {
          "output_type": "stream",
          "text": [
            "Empty Dictionary: \n",
            "{}\n",
            "\n",
            "Dictionary after adding 3 elements: \n",
            "{0: 'rakesh', 2: 'raju', 3: 1}\n",
            "\n",
            "Dictionary after adding 3 elements: \n",
            "{0: 'rakesh', 2: 'raju', 3: 1, 'Value_set': (2, 3, 4)}\n",
            "\n",
            "Updated key value: \n",
            "{0: 'rakesh', 2: 'Welcome', 3: 1, 'Value_set': (2, 3, 4)}\n",
            "\n",
            "Adding a Nested Key: \n",
            "{0: 'rakesh', 2: 'Welcome', 3: 1, 'Value_set': (2, 3, 4), 5: {'Nested': {'1': 'Life', '2': 'sai'}}}\n"
          ],
          "name": "stdout"
        }
      ]
    },
    {
      "cell_type": "markdown",
      "metadata": {
        "id": "2pyIXdhoGTw2",
        "colab_type": "text"
      },
      "source": [
        "*Accessing elements from a Dictionary"
      ]
    },
    {
      "cell_type": "markdown",
      "metadata": {
        "id": "L9tDuhKjGr7z",
        "colab_type": "text"
      },
      "source": [
        "In order to access the items of a dictionary refer to its key name.Key can be used inside square brackets.\n",
        "\n",
        "\n",
        "There is also a method called get() that will also help in acessing the element from a dictionary."
      ]
    },
    {
      "cell_type": "code",
      "metadata": {
        "id": "l80K9QFEGtLu",
        "colab_type": "code",
        "colab": {
          "base_uri": "https://localhost:8080/",
          "height": 85
        },
        "outputId": "5272dc1c-daeb-471d-dea2-f6b7c99a49cc"
      },
      "source": [
        "# Python program to demonstrate \n",
        "# accessing a element from a Dictionary \n",
        "\n",
        "# Creating a Dictionary \n",
        "Dict = {1: 'sai', 'name': 'For', 3: 'madam'} \n",
        "\n",
        "# accessing a element using key \n",
        "print(\"Accessing a element using key:\") \n",
        "print(Dict['name']) \n",
        "\n",
        "# accessing a element using key \n",
        "print(\"Accessing a element using key:\") \n",
        "print(Dict[1]) \n"
      ],
      "execution_count": null,
      "outputs": [
        {
          "output_type": "stream",
          "text": [
            "Accessing a element using key:\n",
            "For\n",
            "Accessing a element using key:\n",
            "sai\n"
          ],
          "name": "stdout"
        }
      ]
    },
    {
      "cell_type": "markdown",
      "metadata": {
        "id": "i6UAg118G7h0",
        "colab_type": "text"
      },
      "source": [
        "*Accessing element of a nested dictionary"
      ]
    },
    {
      "cell_type": "markdown",
      "metadata": {
        "id": "R1otvVxiHWeE",
        "colab_type": "text"
      },
      "source": [
        "In order to access the value of any key in nested dictionary, use indexing [] syntax"
      ]
    },
    {
      "cell_type": "code",
      "metadata": {
        "id": "mZ_0s4WXHXZ_",
        "colab_type": "code",
        "colab": {
          "base_uri": "https://localhost:8080/",
          "height": 68
        },
        "outputId": "f9b1ef1e-ee4d-4256-ffb1-2a2ba2af2888"
      },
      "source": [
        "# Creating a Dictionary \n",
        "Dict = {'Dict1': {1: 'rakesh'}, \n",
        "\t\t'Dict2': {'Name': 'ram'}} \n",
        "\n",
        "# Accessing element using key \n",
        "print(Dict['Dict1']) \n",
        "print(Dict['Dict1'][1]) \n",
        "print(Dict['Dict2']['Name']) \n"
      ],
      "execution_count": null,
      "outputs": [
        {
          "output_type": "stream",
          "text": [
            "{1: 'rakesh'}\n",
            "rakesh\n",
            "ram\n"
          ],
          "name": "stdout"
        }
      ]
    },
    {
      "cell_type": "markdown",
      "metadata": {
        "id": "U15rrnuvHkji",
        "colab_type": "text"
      },
      "source": [
        "*Removing Elements from Dictionary"
      ]
    },
    {
      "cell_type": "markdown",
      "metadata": {
        "id": "W0WQ2Ea5HnNk",
        "colab_type": "text"
      },
      "source": [
        "Using del keyword\n",
        "In Python Dictionary, deletion of keys can be done by using the del keyword. Using del keyword, specific values from a dictionary as well as whole dictionary can be deleted. Items in a Nested dictionary can also be deleted by using del keyword and providing specific nested key and particular key to be deleted from that nested Dictionary."
      ]
    },
    {
      "cell_type": "code",
      "metadata": {
        "id": "G9dqKInlHuR8",
        "colab_type": "code",
        "colab": {
          "base_uri": "https://localhost:8080/",
          "height": 153
        },
        "outputId": "c3f8432d-efbc-48d6-dc6e-cb16229cd15b"
      },
      "source": [
        "# Initial Dictionary \n",
        "Dict = { 5 : 'Welcome', 6 : 'To', 7 : 'rama studio', \n",
        "\t\t'A' : {1 : 'elements', 2 : 'For', 3 : 'sai'}, \n",
        "\t\t'B' : {1 : 'studio', 2 : 'Life'}} \n",
        "print(\"Initial Dictionary: \") \n",
        "print(Dict) \n",
        "\n",
        "# Deleting a Key value \n",
        "del Dict[6] \n",
        "print(\"\\nDeleting a specific key: \") \n",
        "print(Dict) \n",
        "\n",
        "# Deleting a Key from \n",
        "# Nested Dictionary \n",
        "del Dict['A'][2] \n",
        "print(\"\\nDeleting a key from Nested Dictionary: \") \n",
        "print(Dict) \n"
      ],
      "execution_count": null,
      "outputs": [
        {
          "output_type": "stream",
          "text": [
            "Initial Dictionary: \n",
            "{5: 'Welcome', 6: 'To', 7: 'rama studio', 'A': {1: 'elements', 2: 'For', 3: 'sai'}, 'B': {1: 'studio', 2: 'Life'}}\n",
            "\n",
            "Deleting a specific key: \n",
            "{5: 'Welcome', 7: 'rama studio', 'A': {1: 'elements', 2: 'For', 3: 'sai'}, 'B': {1: 'studio', 2: 'Life'}}\n",
            "\n",
            "Deleting a key from Nested Dictionary: \n",
            "{5: 'Welcome', 7: 'rama studio', 'A': {1: 'elements', 3: 'sai'}, 'B': {1: 'studio', 2: 'Life'}}\n"
          ],
          "name": "stdout"
        }
      ]
    },
    {
      "cell_type": "markdown",
      "metadata": {
        "id": "ZAdrxyY5H7yl",
        "colab_type": "text"
      },
      "source": [
        "Using pop() method"
      ]
    },
    {
      "cell_type": "markdown",
      "metadata": {
        "id": "60UhOvfMIEzn",
        "colab_type": "text"
      },
      "source": [
        "*Pop() method is used to return and delete the value of the key specified"
      ]
    },
    {
      "cell_type": "code",
      "metadata": {
        "id": "FdlUJzGxIBQu",
        "colab_type": "code",
        "colab": {
          "base_uri": "https://localhost:8080/",
          "height": 68
        },
        "outputId": "3d6ec5a3-68e9-4a0d-a7b7-47650bb7b608"
      },
      "source": [
        "# Creating a Dictionary \n",
        "Dict = {1: 'sai', 'heips': 'For', 3: 'rakesh'} \n",
        "\n",
        "# Deleting a key \n",
        "# using pop() method \n",
        "pop_ele = Dict.pop(1) \n",
        "print('\\nDictionary after deletion: ' + str(Dict)) \n",
        "print('Value associated to poped key is: ' + str(pop_ele)) \n"
      ],
      "execution_count": null,
      "outputs": [
        {
          "output_type": "stream",
          "text": [
            "\n",
            "Dictionary after deletion: {'heips': 'For', 3: 'rakesh'}\n",
            "Value associated to poped key is: sai\n"
          ],
          "name": "stdout"
        }
      ]
    },
    {
      "cell_type": "markdown",
      "metadata": {
        "id": "Bq4F-RiHIW-q",
        "colab_type": "text"
      },
      "source": [
        "Using popitem() method"
      ]
    },
    {
      "cell_type": "markdown",
      "metadata": {
        "id": "O1u0QWCNIad7",
        "colab_type": "text"
      },
      "source": [
        "The popitem() returns and removes an arbitrary element (key, value) pair from the dictionary."
      ]
    },
    {
      "cell_type": "code",
      "metadata": {
        "id": "20QjJ1YFIc66",
        "colab_type": "code",
        "colab": {
          "base_uri": "https://localhost:8080/",
          "height": 68
        },
        "outputId": "b34abbbe-f8bf-4317-86a8-3f1970905b7c"
      },
      "source": [
        "# Creating Dictionary \n",
        "Dict = {1: 'sai', 'name': 'For', 3: 'Rakesh'} \n",
        "\n",
        "# Deleting an arbitrary key \n",
        "# using popitem() function \n",
        "pop_ele = Dict.popitem() \n",
        "print(\"\\nDictionary after deletion: \" + str(Dict)) \n",
        "print(\"The arbitrary pair returned is: \" + str(pop_ele)) \n"
      ],
      "execution_count": null,
      "outputs": [
        {
          "output_type": "stream",
          "text": [
            "\n",
            "Dictionary after deletion: {1: 'sai', 'name': 'For'}\n",
            "The arbitrary pair returned is: (3, 'Rakesh')\n"
          ],
          "name": "stdout"
        }
      ]
    },
    {
      "cell_type": "markdown",
      "metadata": {
        "id": "UDBoQlJ5IsVt",
        "colab_type": "text"
      },
      "source": [
        "Using clear() method"
      ]
    },
    {
      "cell_type": "markdown",
      "metadata": {
        "id": "iNIjPNdZIxCe",
        "colab_type": "text"
      },
      "source": [
        "All the items from a dictionary can be deleted at once by using clear()"
      ]
    },
    {
      "cell_type": "code",
      "metadata": {
        "id": "Iyj61QAPI4Oq",
        "colab_type": "code",
        "colab": {
          "base_uri": "https://localhost:8080/",
          "height": 68
        },
        "outputId": "6f5d16c1-ae41-4bd3-b7de-ba1e5018599e"
      },
      "source": [
        "# Creating a Dictionary \n",
        "Dict = {1: 'sai', 'name': 'helps', 3: 'Rakesh'} \n",
        "\n",
        "\n",
        "# Deleting entire Dictionary \n",
        "Dict.clear() \n",
        "print(\"\\nDeleting Entire Dictionary: \") \n",
        "print(Dict) \n"
      ],
      "execution_count": null,
      "outputs": [
        {
          "output_type": "stream",
          "text": [
            "\n",
            "Deleting Entire Dictionary: \n",
            "{}\n"
          ],
          "name": "stdout"
        }
      ]
    },
    {
      "cell_type": "markdown",
      "metadata": {
        "id": "V703RZfDJIue",
        "colab_type": "text"
      },
      "source": [
        "3.SETS AND ITS DEFAULT FUNCTIONS IN PYTHON"
      ]
    },
    {
      "cell_type": "markdown",
      "metadata": {
        "id": "kvcKevkpKZx2",
        "colab_type": "text"
      },
      "source": [
        "A Set is an unordered collection data type that is iterable, mutable and has no duplicate elements. Python’s set class represents the mathematical notion of a set. The major advantage of using a set, as opposed to a list, is that it has a highly optimized method for checking whether a specific element is contained in the set. This is based on a data structure known as a hash table. Since sets are unordered, we cannot access items using indexes like we do in lists"
      ]
    },
    {
      "cell_type": "code",
      "metadata": {
        "id": "hxzN2zsUKoug",
        "colab_type": "code",
        "colab": {
          "base_uri": "https://localhost:8080/",
          "height": 51
        },
        "outputId": "42170c5f-d729-4fcf-c6a7-430e6e952399"
      },
      "source": [
        "# Python program to \n",
        "# demonstrate sets \n",
        "\n",
        "# Same as {\"a\", \"b\", \"c\"} \n",
        "myset = set([\"a\", \"b\", \"c\"]) \n",
        "print(myset) \n",
        "\n",
        "# Adding element to the set \n",
        "myset.add(\"d\") \n",
        "print(myset) \n"
      ],
      "execution_count": null,
      "outputs": [
        {
          "output_type": "stream",
          "text": [
            "{'c', 'a', 'b'}\n",
            "{'c', 'a', 'd', 'b'}\n"
          ],
          "name": "stdout"
        }
      ]
    },
    {
      "cell_type": "markdown",
      "metadata": {
        "id": "QFu_Fs9XKsa-",
        "colab_type": "text"
      },
      "source": [
        "add()\tAdds an element to the set\n",
        "\n",
        "clear()\tRemoves all the elements from the set\n",
        "\n",
        "copy()\tReturns a copy of the set\n",
        "\n",
        "difference()\tReturns a set containing the difference between two or more sets\n",
        "\n",
        "difference_update()\t :Removes the items in this set that are also included in another, specified set\n",
        "\n",
        "discard() \t:Remove the specified item\n",
        "\n",
        "intersection() :\tReturns a set, that is the intersection of two other sets\n",
        "\n",
        "intersection_update() :\tRemoves the items in this set that are not present in other, specified set(s)\n",
        "\n",
        "isdisjoint() :\tReturns whether two sets have a intersection or not\n",
        "\n",
        "issubset()\t:Returns whether another set contains this set or not\n",
        "\n",
        "issuperset() :\tReturns whether this set contains another set or not\n",
        "\n",
        "pop() :\tRemoves an element from the set\n",
        "\n",
        "remove() :\tRemoves the specified element\n",
        "\n",
        "symmetric_difference() :\tReturns a set with the symmetric differences of two sets\n",
        "\n",
        "symmetric_difference_update() :\tinserts the symmetric differences from this set\n",
        " and another\n",
        "\n",
        "union() :\tReturn a set containing the union of sets\n",
        "\n",
        "update() :\tUpdate the set with the union of this set and others"
      ]
    },
    {
      "cell_type": "code",
      "metadata": {
        "id": "-garcXvHLcid",
        "colab_type": "code",
        "colab": {
          "base_uri": "https://localhost:8080/",
          "height": 102
        },
        "outputId": "104bb0e4-3845-4682-8015-2efc960e5b30"
      },
      "source": [
        "# Python program to \n",
        "# demonstrate intersection \n",
        "# of two sets \n",
        "\n",
        "set1 = set() \n",
        "set2 = set() \n",
        "\n",
        "for i in range(5): \n",
        "\tset1.add(i) \n",
        "\n",
        "for i in range(3,9): \n",
        "\tset2.add(i) \n",
        "\n",
        "# Intersection using \n",
        "# intersection() function \n",
        "set3 = set1.intersection(set2) \n",
        "\n",
        "print(\"Intersection using intersection() function\") \n",
        "print(set3) \n",
        "\n",
        "# Intersection using \n",
        "# \"&\" operator \n",
        "set3 = set1 & set2 \n",
        "\n",
        "print(\"\\nIntersection using '&' operator\") \n",
        "print(set3) \n"
      ],
      "execution_count": null,
      "outputs": [
        {
          "output_type": "stream",
          "text": [
            "Intersection using intersection() function\n",
            "{3, 4}\n",
            "\n",
            "Intersection using '&' operator\n",
            "{3, 4}\n"
          ],
          "name": "stdout"
        }
      ]
    },
    {
      "cell_type": "markdown",
      "metadata": {
        "id": "mIT1-y9vMbaG",
        "colab_type": "text"
      },
      "source": [
        "4. TUPLES AND ITS DEFAULT FUNCTIONS"
      ]
    },
    {
      "cell_type": "markdown",
      "metadata": {
        "id": "6oNh2n68MnTI",
        "colab_type": "text"
      },
      "source": [
        "A Tuple is a collection of Python objects separated by commas. In someways a tuple is similar to a list in terms of indexing, nested objects and repetition but a tuple is immutable unlike lists which are mutable."
      ]
    },
    {
      "cell_type": "code",
      "metadata": {
        "id": "7CXEX86NNGIE",
        "colab_type": "code",
        "colab": {
          "base_uri": "https://localhost:8080/",
          "height": 51
        },
        "outputId": "0d2918ff-cc8f-438d-9ace-573ffc903c44"
      },
      "source": [
        "# Creating non-empty tuples \n",
        "\n",
        "# One way of creation \n",
        "tup = 'python', 'SAI'\n",
        "print(tup) \n",
        "\n",
        "# Another for doing the same \n",
        "tup = ('python', 'Rakesh') \n",
        "print(tup) \n"
      ],
      "execution_count": null,
      "outputs": [
        {
          "output_type": "stream",
          "text": [
            "('python', 'SAI')\n",
            "('python', 'Rakesh')\n"
          ],
          "name": "stdout"
        }
      ]
    },
    {
      "cell_type": "markdown",
      "metadata": {
        "id": "Brq1c6Q5NeX8",
        "colab_type": "text"
      },
      "source": [
        "*Concatenation of Tuples"
      ]
    },
    {
      "cell_type": "code",
      "metadata": {
        "id": "Ch4uy9ZgNqaB",
        "colab_type": "code",
        "colab": {
          "base_uri": "https://localhost:8080/",
          "height": 34
        },
        "outputId": "3ed0aa27-6499-40c0-b435-ce54f5e14e14"
      },
      "source": [
        "# Code for concatenating 2 tuples \n",
        "\n",
        "tuple1 = (0, 1, 2, 3) \n",
        "tuple2 = ('sai', 'kiran') \n",
        "\n",
        "# Concatenating above two \n",
        "print(tuple1 + tuple2) \n"
      ],
      "execution_count": null,
      "outputs": [
        {
          "output_type": "stream",
          "text": [
            "(0, 1, 2, 3, 'sai', 'kiran')\n"
          ],
          "name": "stdout"
        }
      ]
    },
    {
      "cell_type": "markdown",
      "metadata": {
        "id": "JFzjNEzzN2Nv",
        "colab_type": "text"
      },
      "source": [
        "*Nesting of Tuples"
      ]
    },
    {
      "cell_type": "code",
      "metadata": {
        "id": "RuVimZjHN43f",
        "colab_type": "code",
        "colab": {
          "base_uri": "https://localhost:8080/",
          "height": 34
        },
        "outputId": "c1d213f4-d4e6-4840-9a83-813b39bf1015"
      },
      "source": [
        "# Code for creating nested tuples \n",
        "\n",
        "tuple1 = (0, 1, 2, 3) \n",
        "tuple2 = ('sai', 'kiran') \n",
        "tuple3 = (tuple1, tuple2) \n",
        "print(tuple3) \n"
      ],
      "execution_count": null,
      "outputs": [
        {
          "output_type": "stream",
          "text": [
            "((0, 1, 2, 3), ('sai', 'kiran'))\n"
          ],
          "name": "stdout"
        }
      ]
    },
    {
      "cell_type": "markdown",
      "metadata": {
        "id": "NGhSJYxWOAPj",
        "colab_type": "text"
      },
      "source": [
        "*Repetition in Tuples"
      ]
    },
    {
      "cell_type": "code",
      "metadata": {
        "id": "Yll1JtfEOGMT",
        "colab_type": "code",
        "colab": {
          "base_uri": "https://localhost:8080/",
          "height": 34
        },
        "outputId": "2ac9de61-0e04-4222-dfd9-3b73ff318724"
      },
      "source": [
        "# Code to create a tuple with repetition \n",
        "\n",
        "tuple3 = ('sai kiran',)*3\n",
        "print(tuple3) \n"
      ],
      "execution_count": null,
      "outputs": [
        {
          "output_type": "stream",
          "text": [
            "('sai kiran', 'sai kiran', 'sai kiran')\n"
          ],
          "name": "stdout"
        }
      ]
    },
    {
      "cell_type": "markdown",
      "metadata": {
        "id": "-1iZpf2uONl7",
        "colab_type": "text"
      },
      "source": [
        "*Slicing in Tuples"
      ]
    },
    {
      "cell_type": "code",
      "metadata": {
        "id": "tsCf-jWMOWQ1",
        "colab_type": "code",
        "colab": {
          "base_uri": "https://localhost:8080/",
          "height": 68
        },
        "outputId": "13d1ca07-8b7c-4418-e969-2e38e3f68002"
      },
      "source": [
        "# code to test slicing \n",
        "\n",
        "tuple1 = (0 ,1, 2, 3) \n",
        "print(tuple1[1:]) \n",
        "print(tuple1[::-1]) \n",
        "print(tuple1[2:4]) \n"
      ],
      "execution_count": null,
      "outputs": [
        {
          "output_type": "stream",
          "text": [
            "(1, 2, 3)\n",
            "(3, 2, 1, 0)\n",
            "(2, 3)\n"
          ],
          "name": "stdout"
        }
      ]
    },
    {
      "cell_type": "markdown",
      "metadata": {
        "id": "5Ut_k3KeOkKI",
        "colab_type": "text"
      },
      "source": [
        "*Finding Length of a Tuple"
      ]
    },
    {
      "cell_type": "code",
      "metadata": {
        "id": "8Sj8i2m3O_Zo",
        "colab_type": "code",
        "colab": {
          "base_uri": "https://localhost:8080/",
          "height": 34
        },
        "outputId": "ee6db2aa-4c90-4759-aae3-39229fd4f118"
      },
      "source": [
        "# Code for printing the length of a tuple \n",
        "\n",
        "tuple2 = ('Rakesh', 'sai') \n",
        "print(len(tuple2)) \n"
      ],
      "execution_count": null,
      "outputs": [
        {
          "output_type": "stream",
          "text": [
            "2\n"
          ],
          "name": "stdout"
        }
      ]
    },
    {
      "cell_type": "markdown",
      "metadata": {
        "id": "jEG95df6PFdi",
        "colab_type": "text"
      },
      "source": [
        "*Tuples in a loop"
      ]
    },
    {
      "cell_type": "code",
      "metadata": {
        "id": "BiE3pLYvPO1c",
        "colab_type": "code",
        "colab": {
          "base_uri": "https://localhost:8080/",
          "height": 102
        },
        "outputId": "7747a4da-f3c1-4c58-ffb4-379fd39c9ebd"
      },
      "source": [
        "#python code for creating tuples in a loop \n",
        "\n",
        "tup = ('rakesh and sai are friends',) \n",
        "n = 5 #Number of time loop runs \n",
        "for i in range(int(n)): \n",
        "\ttup = (tup,) \n",
        "\tprint(tup) \n"
      ],
      "execution_count": null,
      "outputs": [
        {
          "output_type": "stream",
          "text": [
            "(('rakesh and sai are friends',),)\n",
            "((('rakesh and sai are friends',),),)\n",
            "(((('rakesh and sai are friends',),),),)\n",
            "((((('rakesh and sai are friends',),),),),)\n",
            "(((((('rakesh and sai are friends',),),),),),)\n"
          ],
          "name": "stdout"
        }
      ]
    },
    {
      "cell_type": "markdown",
      "metadata": {
        "id": "ySI6_-6nPdJK",
        "colab_type": "text"
      },
      "source": [
        "5.STRING AND EXPLORE DEFAULI FUNCTIONS"
      ]
    },
    {
      "cell_type": "markdown",
      "metadata": {
        "id": "mN7LjjQAPmKM",
        "colab_type": "text"
      },
      "source": [
        "n Python, Strings are arrays of bytes representing Unicode characters. However, Python does not have a character data type, a single character is simply a string with a length of 1. Square brackets can be used to access elements of the string."
      ]
    },
    {
      "cell_type": "markdown",
      "metadata": {
        "id": "vKOkbptCQB7c",
        "colab_type": "text"
      },
      "source": [
        "*Creating a String"
      ]
    },
    {
      "cell_type": "code",
      "metadata": {
        "id": "CnvcMmRTQHo_",
        "colab_type": "code",
        "colab": {
          "base_uri": "https://localhost:8080/",
          "height": 238
        },
        "outputId": "551cb199-9945-4e62-f8d6-6303f28485fc"
      },
      "source": [
        "# Python Program for \n",
        "# Creation of String \n",
        "\n",
        "# Creating a String \n",
        "# with single Quotes \n",
        "String1 = 'Welcome to the G World'\n",
        "print(\"String with the use of Single Quotes: \") \n",
        "print(String1) \n",
        "\n",
        "# Creating a String \n",
        "# with double Quotes \n",
        "String1 = \"I'm a saikiran\"\n",
        "print(\"\\nString with the use of Double Quotes: \") \n",
        "print(String1) \n",
        "\n",
        "# Creating a String \n",
        "# with triple Quotes \n",
        "String1 = '''I'm a rakesh and I live in a world of \"hydrabad\"'''\n",
        "print(\"\\nString with the use of Triple Quotes: \") \n",
        "print(String1) \n",
        "\n",
        "# Creating String with triple \n",
        "# Quotes allows multiple lines \n",
        "String1 = '''sai \n",
        "\t\t\tFor \n",
        "\t\t\tLife'''\n",
        "print(\"\\nCreating a multiline String: \") \n",
        "print(String1) \n"
      ],
      "execution_count": null,
      "outputs": [
        {
          "output_type": "stream",
          "text": [
            "String with the use of Single Quotes: \n",
            "Welcome to the G World\n",
            "\n",
            "String with the use of Double Quotes: \n",
            "I'm a saikiran\n",
            "\n",
            "String with the use of Triple Quotes: \n",
            "I'm a rakesh and I live in a world of \"hydrabad\"\n",
            "\n",
            "Creating a multiline String: \n",
            "sai \n",
            "\t\t\tFor \n",
            "\t\t\tLife\n"
          ],
          "name": "stdout"
        }
      ]
    },
    {
      "cell_type": "markdown",
      "metadata": {
        "id": "R3-OVKRlQb_2",
        "colab_type": "text"
      },
      "source": [
        "*Accessing characters in Python"
      ]
    },
    {
      "cell_type": "markdown",
      "metadata": {
        "id": "E-p6-HvkQq9U",
        "colab_type": "text"
      },
      "source": [
        "In Python, individual characters of a String can be accessed by using the method of Indexing. Indexing allows negative address references to access characters from the back of the String, e.g. -1 refers to the last character, -2 refers to the second last character and so on.\n",
        "\n",
        "\n",
        "\n",
        "While accessing an index out of the range will cause an IndexError. Only Integers are allowed to be passed as an index, float or other types will cause a TypeError.\n"
      ]
    },
    {
      "cell_type": "code",
      "metadata": {
        "id": "NT82c-xEQuRn",
        "colab_type": "code",
        "colab": {
          "base_uri": "https://localhost:8080/",
          "height": 153
        },
        "outputId": "95d0160c-c6dd-4833-b744-f298c670e829"
      },
      "source": [
        "# Python Program to Access \n",
        "# characters of String \n",
        "\n",
        "String1 = \"sairam\"\n",
        "print(\"Initial String: \") \n",
        "print(String1) \n",
        "\n",
        "# Printing First character \n",
        "print(\"\\nFirst character of String is: \") \n",
        "print(String1[0]) \n",
        "\n",
        "# Printing Last character \n",
        "print(\"\\nLast character of String is: \") \n",
        "print(String1[-1]) \n"
      ],
      "execution_count": null,
      "outputs": [
        {
          "output_type": "stream",
          "text": [
            "Initial String: \n",
            "sairam\n",
            "\n",
            "First character of String is: \n",
            "s\n",
            "\n",
            "Last character of String is: \n",
            "m\n"
          ],
          "name": "stdout"
        }
      ]
    },
    {
      "cell_type": "markdown",
      "metadata": {
        "id": "m_jx2YJBRCYk",
        "colab_type": "text"
      },
      "source": [
        "**the end**"
      ]
    }
  ]
}