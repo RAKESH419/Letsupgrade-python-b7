{
  "nbformat": 4,
  "nbformat_minor": 0,
  "metadata": {
    "colab": {
      "name": "Gummadidala Rakesh assignment",
      "provenance": [],
      "authorship_tag": "ABX9TyMCDJaPOIYhhCRSIdv5PXk9",
      "include_colab_link": true
    },
    "kernelspec": {
      "name": "python3",
      "display_name": "Python 3"
    }
  },
  "cells": [
    {
      "cell_type": "markdown",
      "metadata": {
        "id": "view-in-github",
        "colab_type": "text"
      },
      "source": [
        "<a href=\"https://colab.research.google.com/github/RAKESH419/Letsupgrade-python-b7/blob/master/Gummadidala_Rakesh_assignment.ipynb\" target=\"_parent\"><img src=\"https://colab.research.google.com/assets/colab-badge.svg\" alt=\"Open In Colab\"/></a>"
      ]
    },
    {
      "cell_type": "markdown",
      "metadata": {
        "id": "vBGvowkA7rgO",
        "colab_type": "text"
      },
      "source": [
        "\n",
        "assignment Day 5\n",
        "\n"
      ]
    },
    {
      "cell_type": "markdown",
      "metadata": {
        "id": "IVsrG6Ll7pFh",
        "colab_type": "text"
      },
      "source": [
        " 1.Write a program to identify sub list [1,1,5] is there in the given list in the same order, if yes print\n",
        "“it’s a Match” if no then print “it’s Gone” in function.\n"
      ]
    },
    {
      "cell_type": "code",
      "metadata": {
        "id": "N-jyuwK8EE6K",
        "colab_type": "code",
        "colab": {
          "base_uri": "https://localhost:8080/",
          "height": 68
        },
        "outputId": "20ee77eb-0501-45d1-f7fc-fe2ec94f9842"
      },
      "source": [
        "# Python3 code to demonstrate \n",
        "# to check if list is subset of other \n",
        "\n",
        "#Importing \n",
        "from collections import Counter \n",
        "\n",
        "def checkInFirst(a, b): \n",
        "\t#getting count \n",
        "\tcount_a = Counter(a) \n",
        "\tcount_b = Counter(b) \n",
        "\n",
        "\t#checking if element exsists in second list \n",
        "\tfor key in count_b: \n",
        "\t\tif key not in count_a: \n",
        "\t\t\treturn False\n",
        "\t\tif count_b[key] > count_b[key]: \n",
        "\t\t\treturn False\n",
        "\treturn True\n",
        "\n",
        "# initializing list \n",
        "a = [1,5,6,4,1,2,3,5] \n",
        "b = [1,1,5] \n",
        "\n",
        "#Calling function \n",
        "res = checkInFirst(a, b) \n",
        "\n",
        "#Printing list \n",
        "print (\"Original list : \" + str(a)) \n",
        "print (\"Original sub list : \" + str(b)) \n",
        "\n",
        "if res==True : \n",
        "\tprint (\" it’s a Match\") \n",
        "else : \n",
        "\tprint (\" it’s Gone\") \n",
        "\t\n",
        "#Added by Paras Jain(everythingispossible) \n"
      ],
      "execution_count": 25,
      "outputs": [
        {
          "output_type": "stream",
          "text": [
            "Original list : [1, 5, 6, 4, 1, 2, 3, 5]\n",
            "Original sub list : [1, 1, 5]\n",
            " it’s a Match\n"
          ],
          "name": "stdout"
        }
      ]
    },
    {
      "cell_type": "markdown",
      "metadata": {
        "id": "gygDae378PyW",
        "colab_type": "text"
      },
      "source": [
        "2.Make a Function for prime numbers and use Filter to filter out all the prime numbers from 1-2500"
      ]
    },
    {
      "cell_type": "code",
      "metadata": {
        "id": "frM6GDg3GR4P",
        "colab_type": "code",
        "colab": {
          "base_uri": "https://localhost:8080/",
          "height": 122
        },
        "outputId": "67d3321c-0bf1-4814-f29c-ec5ffcaf00fc"
      },
      "source": [
        "\n",
        "if __name__ == '__main__': \n",
        "\t\n",
        "\ta, b, i, j, flag = 0, 0, 0, 0, 0\n",
        "\n",
        "\tprint(\"Enter lower bound of the interval:\", \n",
        "\t\t\t\t\t\t\t\t\tend = \"\") \n",
        "\ta = int(input())  \n",
        "\tprint(a) \n",
        "\t \n",
        "\tprint(\"Enter upper bound of the interval:\", \n",
        "\t\t\t\t\t\t\t\t\tend = \"\") \n",
        "\tb = int(input()) \n",
        "\tprint(b) \n",
        " \n",
        "\tprint(\"Prime numbers between\", a, \"and\", \n",
        "\t\t\t\t\t\tb, \"are:\", end = \"\") \n",
        "\n",
        "\tfor i in range(a, b + 1): \n",
        " \n",
        "\t\tif (i == 1): \n",
        "\t\t\tcontinue\n",
        "\t\tflag = 1\n",
        "\t\t\n",
        "\t\tfor j in range(2, i // 2 + 1): \n",
        "\t\t\tif (i % j == 0): \n",
        "\t\t\t\tflag = 0\n",
        "\t\t\t\tbreak\n",
        "\t\t\t\n",
        "\t\tif (flag == 1): \n",
        "\t\t\tprint(i, end = \" \") \n",
        "\t\t\t"
      ],
      "execution_count": 31,
      "outputs": [
        {
          "output_type": "stream",
          "text": [
            "Enter lower bound of the interval:1\n",
            "1\n",
            "Enter upper bound of the interval:2500\n",
            "2500\n",
            "Prime numbers between 1 and 2500 are:2 3 5 7 11 13 17 19 23 29 31 37 41 43 47 53 59 61 67 71 73 79 83 89 97 101 103 107 109 113 127 131 137 139 149 151 157 163 167 173 179 181 191 193 197 199 211 223 227 229 233 239 241 251 257 263 269 271 277 281 283 293 307 311 313 317 331 337 347 349 353 359 367 373 379 383 389 397 401 409 419 421 431 433 439 443 449 457 461 463 467 479 487 491 499 503 509 521 523 541 547 557 563 569 571 577 587 593 599 601 607 613 617 619 631 641 643 647 653 659 661 673 677 683 691 701 709 719 727 733 739 743 751 757 761 769 773 787 797 809 811 821 823 827 829 839 853 857 859 863 877 881 883 887 907 911 919 929 937 941 947 953 967 971 977 983 991 997 1009 1013 1019 1021 1031 1033 1039 1049 1051 1061 1063 1069 1087 1091 1093 1097 1103 1109 1117 1123 1129 1151 1153 1163 1171 1181 1187 1193 1201 1213 1217 1223 1229 1231 1237 1249 1259 1277 1279 1283 1289 1291 1297 1301 1303 1307 1319 1321 1327 1361 1367 1373 1381 1399 1409 1423 1427 1429 1433 1439 1447 1451 1453 1459 1471 1481 1483 1487 1489 1493 1499 1511 1523 1531 1543 1549 1553 1559 1567 1571 1579 1583 1597 1601 1607 1609 1613 1619 1621 1627 1637 1657 1663 1667 1669 1693 1697 1699 1709 1721 1723 1733 1741 1747 1753 1759 1777 1783 1787 1789 1801 1811 1823 1831 1847 1861 1867 1871 1873 1877 1879 1889 1901 1907 1913 1931 1933 1949 1951 1973 1979 1987 1993 1997 1999 2003 2011 2017 2027 2029 2039 2053 2063 2069 2081 2083 2087 2089 2099 2111 2113 2129 2131 2137 2141 2143 2153 2161 2179 2203 2207 2213 2221 2237 2239 2243 2251 2267 2269 2273 2281 2287 2293 2297 2309 2311 2333 2339 2341 2347 2351 2357 2371 2377 2381 2383 2389 2393 2399 2411 2417 2423 2437 2441 2447 2459 2467 2473 2477 "
          ],
          "name": "stdout"
        }
      ]
    },
    {
      "cell_type": "markdown",
      "metadata": {
        "id": "0BRdbfZXFrEK",
        "colab_type": "text"
      },
      "source": [
        "3. Make a Lambda function for capitalizing the whole sentence passed using arguments.\n",
        "And map all the sentences in the List, with the lambda functions"
      ]
    },
    {
      "cell_type": "code",
      "metadata": {
        "id": "-YT2qJf7KTz9",
        "colab_type": "code",
        "colab": {
          "base_uri": "https://localhost:8080/",
          "height": 34
        },
        "outputId": "d984c009-8db7-4f94-a3b8-12d897be5afd"
      },
      "source": [
        "# Python3 program to Check if given words \n",
        "# appear together in a list of sentence \n",
        "\n",
        "def check(sentence, words): \n",
        "\tres = [] \n",
        "\tfor substring in sentence: \n",
        "\t\tk = [ w for w in words if w in substring ] \n",
        "\t\tif (len(k) == len(words) ): \n",
        "\t\t\tres.append(substring) \n",
        "\t\t\t\n",
        "\treturn res \n",
        "\t\n",
        "# Driver code \n",
        "sentence = ['python coder', 'geeksforgeeks', 'coder in geeksforgeeks'] \n",
        "words = ['coder', 'geeksforgeeks'] \n",
        "print(check(sentence, words)) \n"
      ],
      "execution_count": 47,
      "outputs": [
        {
          "output_type": "stream",
          "text": [
            "['coder in geeksforgeeks']\n"
          ],
          "name": "stdout"
        }
      ]
    },
    {
      "cell_type": "code",
      "metadata": {
        "id": "rzSz8V1-KiAP",
        "colab_type": "code",
        "colab": {}
      },
      "source": [
        ""
      ],
      "execution_count": null,
      "outputs": []
    }
  ]
}