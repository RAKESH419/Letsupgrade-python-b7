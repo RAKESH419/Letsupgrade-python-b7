{
  "nbformat": 4,
  "nbformat_minor": 0,
  "metadata": {
    "colab": {
      "name": "Gummadidala Rakesh assignment",
      "provenance": [],
      "authorship_tag": "ABX9TyNjpiF4iuSBmYvvXmt2Soa8",
      "include_colab_link": true
    },
    "kernelspec": {
      "name": "python3",
      "display_name": "Python 3"
    }
  },
  "cells": [
    {
      "cell_type": "markdown",
      "metadata": {
        "id": "view-in-github",
        "colab_type": "text"
      },
      "source": [
        "<a href=\"https://colab.research.google.com/github/RAKESH419/Letsupgrade-python-b7/blob/master/Gummadidala_Rakesh_assignment.ipynb\" target=\"_parent\"><img src=\"https://colab.research.google.com/assets/colab-badge.svg\" alt=\"Open In Colab\"/></a>"
      ]
    },
    {
      "cell_type": "markdown",
      "metadata": {
        "id": "m_iOrdjR__w-",
        "colab_type": "text"
      },
      "source": [
        "assignment 2 day 3"
      ]
    },
    {
      "cell_type": "markdown",
      "metadata": {
        "id": "uWFHfHNCeUnp",
        "colab_type": "text"
      },
      "source": [
        "2.Using for loop please print all the prime numbers between 1- 200 using FOR LOOP AND RANGE\n",
        "function"
      ]
    },
    {
      "cell_type": "code",
      "metadata": {
        "id": "tvYigikiBwrP",
        "colab_type": "code",
        "colab": {
          "base_uri": "https://localhost:8080/",
          "height": 122
        },
        "outputId": "4ce54832-ddcb-4c6e-9274-d53c91734881"
      },
      "source": [
        "   \n",
        "if __name__ == '__main__': \n",
        "  \n",
        "    a, b, i, j, flag = 0, 0, 0, 0, 0\n",
        "  \n",
        "    print(\"Enter lower bound of the interval:\",  \n",
        "                                      end = \"\") \n",
        "    a = int(input()) \n",
        "    print(a) \n",
        "  \n",
        "    print(\"Enter upper bound of the interval:\",  \n",
        "                                      end = \"\") \n",
        "    b = int(input()) \n",
        "    print(b) \n",
        "    print(\"Prime numbers between\", a, \"and\",  \n",
        "                        b, \"are:\", end = \"\") \n",
        "    for i in range(a, b + 1):\n",
        "        if (i == 1): \n",
        "            continue\n",
        "        flag = 1\n",
        "          \n",
        "        for j in range(2, i // 2 + 1): \n",
        "            if (i % j == 0): \n",
        "                flag = 0\n",
        "                break\n",
        "        if (flag == 1): \n",
        "            print(i, end = \" \") \n",
        "              "
      ],
      "execution_count": 37,
      "outputs": [
        {
          "output_type": "stream",
          "text": [
            "Enter lower bound of the interval:1\n",
            "1\n",
            "Enter upper bound of the interval:200\n",
            "200\n",
            "Prime numbers between 1 and 200 are:2 3 5 7 11 13 17 19 23 29 31 37 41 43 47 53 59 61 67 71 73 79 83 89 97 101 103 107 109 113 127 131 137 139 149 151 157 163 167 173 179 181 191 193 197 199 "
          ],
          "name": "stdout"
        }
      ]
    },
    {
      "cell_type": "markdown",
      "metadata": {
        "id": "cWMkKvxqCkCF",
        "colab_type": "text"
      },
      "source": [
        "1"
      ]
    }
  ]
}