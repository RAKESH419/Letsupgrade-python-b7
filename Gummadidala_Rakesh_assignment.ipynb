{
  "nbformat": 4,
  "nbformat_minor": 0,
  "metadata": {
    "colab": {
      "name": "Gummadidala Rakesh assignment",
      "provenance": [],
      "authorship_tag": "ABX9TyO6xCDaLSzR7CnTDxd86fC+",
      "include_colab_link": true
    },
    "kernelspec": {
      "name": "python3",
      "display_name": "Python 3"
    }
  },
  "cells": [
    {
      "cell_type": "markdown",
      "metadata": {
        "id": "view-in-github",
        "colab_type": "text"
      },
      "source": [
        "<a href=\"https://colab.research.google.com/github/RAKESH419/Letsupgrade-python-b7/blob/master/Gummadidala_Rakesh_assignment.ipynb\" target=\"_parent\"><img src=\"https://colab.research.google.com/assets/colab-badge.svg\" alt=\"Open In Colab\"/></a>"
      ]
    },
    {
      "cell_type": "markdown",
      "metadata": {
        "id": "vBGvowkA7rgO",
        "colab_type": "text"
      },
      "source": [
        "assignment Day 8\n",
        "\n"
      ]
    },
    {
      "cell_type": "markdown",
      "metadata": {
        "id": "IVsrG6Ll7pFh",
        "colab_type": "text"
      },
      "source": [
        " 1.Write a decorator function for your taking input for you any kind of function you want to build"
      ]
    },
    {
      "cell_type": "code",
      "metadata": {
        "id": "oO0OyPom762V",
        "colab_type": "code",
        "colab": {
          "base_uri": "https://localhost:8080/",
          "height": 51
        },
        "outputId": "698ecfd4-bd89-4dd0-8271-e0cd11db9445"
      },
      "source": [
        "# importing libraries \n",
        "import time \n",
        "import math \n",
        "\n",
        "# decorator to calculate duration \n",
        "# taken by any function. \n",
        "def calculate_time(func): \n",
        "\t\n",
        "\t# added arguments inside the inner1, \n",
        "\t# if function takes any arguments, \n",
        "\t# can be added like this. \n",
        "\tdef inner1(*args, **kwargs): \n",
        "\n",
        "\t\t# storing time before function execution \n",
        "\t\tbegin = time.time() \n",
        "\t\t\n",
        "\t\tfunc(*args, **kwargs) \n",
        "\n",
        "\t\t# storing time after function execution \n",
        "\t\tend = time.time() \n",
        "\t\tprint(\"Total time taken in : \", func.__name__, end - begin) \n",
        "\n",
        "\treturn inner1 \n",
        "\n",
        "\n",
        "\n",
        "# this can be added to any function present, \n",
        "# in this case to calculate a factorial \n",
        "@calculate_time\n",
        "def factorial(num): \n",
        "\n",
        "\t# sleep 2 seconds because it takes very less time \n",
        "\t# so that you can see the actual difference \n",
        "\ttime.sleep(2) \n",
        "\tprint(math.factorial(num)) \n",
        "\n",
        "# calling the function. \n",
        "factorial(10) \n"
      ],
      "execution_count": 8,
      "outputs": [
        {
          "output_type": "stream",
          "text": [
            "3628800\n",
            "Total time taken in :  factorial 2.001222610473633\n"
          ],
          "name": "stdout"
        }
      ]
    },
    {
      "cell_type": "markdown",
      "metadata": {
        "id": "gygDae378PyW",
        "colab_type": "text"
      },
      "source": [
        "2.For this challenge you need to develop a Python program to open a file in read only mode and try\n",
        "writing something to it and handle the subsequent errors using Exception Handling."
      ]
    },
    {
      "cell_type": "code",
      "metadata": {
        "id": "tqYcK3yp8NGg",
        "colab_type": "code",
        "colab": {
          "base_uri": "https://localhost:8080/",
          "height": 51
        },
        "outputId": "7644514c-84ce-45fd-caee-f771e1850966"
      },
      "source": [
        "# Python program to demonstrate finally  \n",
        "\n",
        "    \n",
        "# No exception Exception raised in try block  \n",
        "\n",
        "try:  \n",
        "\n",
        "    k = 5//0 # raises divide by zero exception.  \n",
        "\n",
        "    print(k)  \n",
        "\n",
        "    \n",
        "# handles zerodivision exception      \n",
        "\n",
        "except ZeroDivisionError:     \n",
        "\n",
        "    print(\"Can't divide by zero\")  \n",
        "\n",
        "        \n",
        "\n",
        "finally:  \n",
        "\n",
        "    # this block is always executed   \n",
        "\n",
        "    # regardless of exception generation.  \n",
        "\n",
        "    print('This is always executed')   "
      ],
      "execution_count": 12,
      "outputs": [
        {
          "output_type": "stream",
          "text": [
            "Can't divide by zero\n",
            "This is always executed\n"
          ],
          "name": "stdout"
        }
      ]
    },
    {
      "cell_type": "code",
      "metadata": {
        "id": "QHVnLZqJ-N-v",
        "colab_type": "code",
        "colab": {}
      },
      "source": [
        ""
      ],
      "execution_count": null,
      "outputs": []
    }
  ]
}