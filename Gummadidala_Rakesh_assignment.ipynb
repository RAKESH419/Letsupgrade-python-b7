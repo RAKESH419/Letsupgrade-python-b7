{
  "nbformat": 4,
  "nbformat_minor": 0,
  "metadata": {
    "colab": {
      "name": "Gummadidala Rakesh assignment",
      "provenance": [],
      "authorship_tag": "ABX9TyOdi3fBOJdscHzavp545Pvr",
      "include_colab_link": true
    },
    "kernelspec": {
      "name": "python3",
      "display_name": "Python 3"
    }
  },
  "cells": [
    {
      "cell_type": "markdown",
      "metadata": {
        "id": "view-in-github",
        "colab_type": "text"
      },
      "source": [
        "<a href=\"https://colab.research.google.com/github/RAKESH419/Letsupgrade-python-b7/blob/master/Gummadidala_Rakesh_assignment.ipynb\" target=\"_parent\"><img src=\"https://colab.research.google.com/assets/colab-badge.svg\" alt=\"Open In Colab\"/></a>"
      ]
    },
    {
      "cell_type": "markdown",
      "metadata": {
        "id": "m_iOrdjR__w-",
        "colab_type": "text"
      },
      "source": [
        "assignment 1 day 4"
      ]
    },
    {
      "cell_type": "markdown",
      "metadata": {
        "id": "HuhFucdF_0ls",
        "colab_type": "text"
      },
      "source": [
        "1.Print the first ArmStrong number in the range of 1042000 to 702648265 and exit the loop as soon\n",
        "as you encounter the first armstrong number.\n",
        "Use while loop"
      ]
    },
    {
      "cell_type": "code",
      "metadata": {
        "id": "3sHZUhP2rSza",
        "colab_type": "code",
        "colab": {
          "base_uri": "https://localhost:8080/",
          "height": 51
        },
        "outputId": "f0887223-a034-41e1-adf6-ce1aae7536d4"
      },
      "source": [
        "lower = 1042000\n",
        "upper = 702648265\n",
        "\n",
        "for num in range(lower, upper + 1):\n",
        "\n",
        "   # order of number\n",
        "   order = len(str(num))\n",
        "    \n",
        "   # initialize sum\n",
        "   sum = 0\n",
        "\n",
        "   temp = num\n",
        "   while temp > 0:\n",
        "       digit = temp % 10\n",
        "       sum += digit ** order\n",
        "       temp //= 10\n",
        "\n",
        "   if num == sum:\n",
        "       print(num)\n",
        "       print(\"the first armstrong number is= 1741725\")"
      ],
      "execution_count": null,
      "outputs": [
        {
          "output_type": "stream",
          "text": [
            "1741725\n",
            "the first armstrong number is= 1741725\n"
          ],
          "name": "stdout"
        }
      ]
    },
    {
      "cell_type": "markdown",
      "metadata": {
        "id": "LG07SIDAglpW",
        "colab_type": "text"
      },
      "source": [
        "1.print the first ArmStrong number in the range of 1042000 to 702648265 and exit the loop as soon\n",
        "as you encounter the first armstrong number.\n",
        "Use while loop"
      ]
    },
    {
      "cell_type": "code",
      "metadata": {
        "id": "jaoId_vOrSwk",
        "colab_type": "code",
        "colab": {}
      },
      "source": [
        ""
      ],
      "execution_count": null,
      "outputs": []
    },
    {
      "cell_type": "markdown",
      "metadata": {
        "id": "uWFHfHNCeUnp",
        "colab_type": "text"
      },
      "source": [
        ""
      ]
    }
  ]
}