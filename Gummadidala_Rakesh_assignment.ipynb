{
  "nbformat": 4,
  "nbformat_minor": 0,
  "metadata": {
    "colab": {
      "name": "Gummadidala Rakesh assignment",
      "provenance": [],
      "authorship_tag": "ABX9TyMecYFQOlqNPzZMdSHf8tHN",
      "include_colab_link": true
    },
    "kernelspec": {
      "name": "python3",
      "display_name": "Python 3"
    }
  },
  "cells": [
    {
      "cell_type": "markdown",
      "metadata": {
        "id": "view-in-github",
        "colab_type": "text"
      },
      "source": [
        "<a href=\"https://colab.research.google.com/github/RAKESH419/Letsupgrade-python-b7/blob/master/Gummadidala_Rakesh_assignment.ipynb\" target=\"_parent\"><img src=\"https://colab.research.google.com/assets/colab-badge.svg\" alt=\"Open In Colab\"/></a>"
      ]
    },
    {
      "cell_type": "markdown",
      "metadata": {
        "id": "vBGvowkA7rgO",
        "colab_type": "text"
      },
      "source": [
        "\n",
        "assignment Day 6\n",
        "\n"
      ]
    },
    {
      "cell_type": "markdown",
      "metadata": {
        "id": "IVsrG6Ll7pFh",
        "colab_type": "text"
      },
      "source": [
        " 1.For this challenge,create a bank account class that has two attributes\n",
        "*ownerName\n",
        "*Balance\n",
        "And two methods\n",
        "*deposit\n",
        "*withdraw\n",
        "As an added requirement,withdrawals may not exceed the available balance."
      ]
    },
    {
      "cell_type": "code",
      "metadata": {
        "id": "NnKsSt1MB0Ez",
        "colab_type": "code",
        "colab": {
          "base_uri": "https://localhost:8080/",
          "height": 170
        },
        "outputId": "351afd90-5fdc-45d9-8d74-aa7a8a52dfb1"
      },
      "source": [
        "# Python program to create Bankaccount class \n",
        "# with both a deposit() and a withdraw() function \n",
        "class Bank_Account: \n",
        "\tdef __init__(self): \n",
        "\t\tself.balance=0\n",
        "\t\tprint(\"Hello!!! Welcome to the Deposit & Withdrawal Machine\") \n",
        "\n",
        "\tdef deposit(self): \n",
        "\t\tamount=float(input(\"Enter amount to be Deposited: \")) \n",
        "\t\tself.balance += amount \n",
        "\t\tprint(\"\\n Amount Deposited:\",amount) \n",
        "\n",
        "\tdef withdraw(self): \n",
        "\t\tamount = float(input(\"Enter amount to be Withdrawn: \")) \n",
        "\t\tif self.balance>=amount: \n",
        "\t\t\tself.balance-=amount \n",
        "\t\t\tprint(\"\\n You Withdrew:\", amount) \n",
        "\t\telse: \n",
        "\t\t\tprint(\"\\n Insufficient balance \") \n",
        "\n",
        "\tdef display(self): \n",
        "\t\tprint(\"\\n Net Available Balance=\",self.balance) \n",
        "\n",
        "# Driver code \n",
        "\n",
        "# creating an object of class \n",
        "s = Bank_Account() \n",
        "\n",
        "# Calling functions with that class object \n",
        "s.deposit() \n",
        "s.withdraw() \n",
        "s.display() \n"
      ],
      "execution_count": 19,
      "outputs": [
        {
          "output_type": "stream",
          "text": [
            "Hello!!! Welcome to the Deposit & Withdrawal Machine\n",
            "Enter amount to be Deposited: 500\n",
            "\n",
            " Amount Deposited: 500.0\n",
            "Enter amount to be Withdrawn: 300\n",
            "\n",
            " You Withdrew: 300.0\n",
            "\n",
            " Net Available Balance= 200.0\n"
          ],
          "name": "stdout"
        }
      ]
    },
    {
      "cell_type": "markdown",
      "metadata": {
        "id": "gygDae378PyW",
        "colab_type": "text"
      },
      "source": [
        "2.For this challenge,create a cone class that has two attributes:\n",
        "\n",
        "*R=Radius\n",
        "\n",
        "*h=Heigh"
      ]
    },
    {
      "cell_type": "code",
      "metadata": {
        "id": "QHVnLZqJ-N-v",
        "colab_type": "code",
        "colab": {
          "base_uri": "https://localhost:8080/",
          "height": 51
        },
        "outputId": "d1f632b9-c38f-469a-a005-6b4e219f2037"
      },
      "source": [
        "''' Python3 program to calculate Volume and \n",
        "\tSurface area of Cone'''\n",
        "\n",
        "# Importing Math library for value Of PI \n",
        "import math \n",
        "pi = math.pi \n",
        "\n",
        "# Function to calculate Volume of Cone \n",
        "def volume(r, h): \n",
        "\treturn (1 / 3) * pi * r * r * h \n",
        "\n",
        "# Function To Calculate Surface Area of Cone \n",
        "def surfacearea(r, s): \n",
        "\treturn pi * r * s + pi * r * r \n",
        "\n",
        "# Driver Code \n",
        "radius = float(5) \n",
        "height = float(12) \n",
        "slat_height = float(13) \n",
        "print( \"Volume Of Cone : \", volume(radius, height) ) \n",
        "print( \"Surface Area Of Cone : \", surfacearea(radius, slat_height) ) \n"
      ],
      "execution_count": 23,
      "outputs": [
        {
          "output_type": "stream",
          "text": [
            "Volume Of Cone :  314.15926535897927\n",
            "Surface Area Of Cone :  282.7433388230814\n"
          ],
          "name": "stdout"
        }
      ]
    },
    {
      "cell_type": "code",
      "metadata": {
        "id": "6KjBe9TVCOAx",
        "colab_type": "code",
        "colab": {}
      },
      "source": [
        ""
      ],
      "execution_count": null,
      "outputs": []
    }
  ]
}